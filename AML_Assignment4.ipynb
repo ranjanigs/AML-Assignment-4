{
 "cells": [
  {
   "cell_type": "code",
   "execution_count": null,
   "metadata": {},
   "outputs": [],
   "source": [
    "import pandas as pd\n",
    "\n",
    "# pass in column names for each CSV and read them using pandas. \n",
    "# Column names available in the readme file\n",
    "\n",
    "#Reading users file:\n",
    "u_cols = ['user_id', 'age', 'sex', 'occupation', 'zip_code']\n",
    "\n",
    "users=pd.read_csv('/home/ranjani/Downloads/ml-100k/u.user', sep='|', names=u_cols, encoding='latin-1')\n",
    "\n",
    "r_cols = ['user_id', 'movie id', 'rating', 'unix_timestamp']\n",
    "ratings = pd.read_csv('/home/ranjani/Downloads/ml-100k/u.data', sep='\\t', names=r_cols, encoding='latin-1')\n",
    "\n",
    "#Reading items file:\n",
    "i_cols = ['movie id', 'movie title' ,'release date','video release date', 'IMDb URL', 'unknown', 'Action', 'Adventure',\n",
    " 'Animation', 'Children\\'s', 'Comedy', 'Crime', 'Documentary', 'Drama', 'Fantasy',\n",
    " 'Film-Noir', 'Horror', 'Musical', 'Mystery', 'Romance', 'Sci-Fi', 'Thriller', 'War', 'Western']\n",
    "items = pd.read_csv('/home/ranjani/Downloads/ml-100k/u.item', sep='|', names=i_cols,\n",
    " encoding='latin-1')\n",
    "\n"
   ]
  },
  {
   "cell_type": "code",
   "execution_count": 32,
   "metadata": {},
   "outputs": [
    {
     "name": "stdout",
     "output_type": "stream",
     "text": [
      "(943, 5)\n"
     ]
    },
    {
     "data": {
      "text/html": [
       "<div>\n",
       "<style scoped>\n",
       "    .dataframe tbody tr th:only-of-type {\n",
       "        vertical-align: middle;\n",
       "    }\n",
       "\n",
       "    .dataframe tbody tr th {\n",
       "        vertical-align: top;\n",
       "    }\n",
       "\n",
       "    .dataframe thead th {\n",
       "        text-align: right;\n",
       "    }\n",
       "</style>\n",
       "<table border=\"1\" class=\"dataframe\">\n",
       "  <thead>\n",
       "    <tr style=\"text-align: right;\">\n",
       "      <th></th>\n",
       "      <th>user_id</th>\n",
       "      <th>age</th>\n",
       "      <th>sex</th>\n",
       "      <th>occupation</th>\n",
       "      <th>zip_code</th>\n",
       "    </tr>\n",
       "  </thead>\n",
       "  <tbody>\n",
       "    <tr>\n",
       "      <th>0</th>\n",
       "      <td>1</td>\n",
       "      <td>24</td>\n",
       "      <td>M</td>\n",
       "      <td>technician</td>\n",
       "      <td>85711</td>\n",
       "    </tr>\n",
       "    <tr>\n",
       "      <th>1</th>\n",
       "      <td>2</td>\n",
       "      <td>53</td>\n",
       "      <td>F</td>\n",
       "      <td>other</td>\n",
       "      <td>94043</td>\n",
       "    </tr>\n",
       "    <tr>\n",
       "      <th>2</th>\n",
       "      <td>3</td>\n",
       "      <td>23</td>\n",
       "      <td>M</td>\n",
       "      <td>writer</td>\n",
       "      <td>32067</td>\n",
       "    </tr>\n",
       "    <tr>\n",
       "      <th>3</th>\n",
       "      <td>4</td>\n",
       "      <td>24</td>\n",
       "      <td>M</td>\n",
       "      <td>technician</td>\n",
       "      <td>43537</td>\n",
       "    </tr>\n",
       "    <tr>\n",
       "      <th>4</th>\n",
       "      <td>5</td>\n",
       "      <td>33</td>\n",
       "      <td>F</td>\n",
       "      <td>other</td>\n",
       "      <td>15213</td>\n",
       "    </tr>\n",
       "  </tbody>\n",
       "</table>\n",
       "</div>"
      ],
      "text/plain": [
       "   user_id  age sex  occupation zip_code\n",
       "0        1   24   M  technician    85711\n",
       "1        2   53   F       other    94043\n",
       "2        3   23   M      writer    32067\n",
       "3        4   24   M  technician    43537\n",
       "4        5   33   F       other    15213"
      ]
     },
     "execution_count": 32,
     "metadata": {},
     "output_type": "execute_result"
    }
   ],
   "source": [
    "print (users.shape)\n",
    "users.head()\n"
   ]
  },
  {
   "cell_type": "code",
   "execution_count": 33,
   "metadata": {},
   "outputs": [
    {
     "name": "stdout",
     "output_type": "stream",
     "text": [
      "   movie id       movie title release date  video release date  \\\n",
      "0         1  Toy Story (1995)  01-Jan-1995                 NaN   \n",
      "1         1  Toy Story (1995)  01-Jan-1995                 NaN   \n",
      "2         1  Toy Story (1995)  01-Jan-1995                 NaN   \n",
      "3         1  Toy Story (1995)  01-Jan-1995                 NaN   \n",
      "4         1  Toy Story (1995)  01-Jan-1995                 NaN   \n",
      "\n",
      "                                            IMDb URL  unknown  Action  \\\n",
      "0  http://us.imdb.com/M/title-exact?Toy%20Story%2...        0       0   \n",
      "1  http://us.imdb.com/M/title-exact?Toy%20Story%2...        0       0   \n",
      "2  http://us.imdb.com/M/title-exact?Toy%20Story%2...        0       0   \n",
      "3  http://us.imdb.com/M/title-exact?Toy%20Story%2...        0       0   \n",
      "4  http://us.imdb.com/M/title-exact?Toy%20Story%2...        0       0   \n",
      "\n",
      "   Adventure  Animation  Children's       ...        Musical  Mystery  \\\n",
      "0          0          1           1       ...              0        0   \n",
      "1          0          1           1       ...              0        0   \n",
      "2          0          1           1       ...              0        0   \n",
      "3          0          1           1       ...              0        0   \n",
      "4          0          1           1       ...              0        0   \n",
      "\n",
      "   Romance  Sci-Fi  Thriller  War  Western  user_id  rating  unix_timestamp  \n",
      "0        0       0         0    0        0      308       4       887736532  \n",
      "1        0       0         0    0        0      287       5       875334088  \n",
      "2        0       0         0    0        0      148       4       877019411  \n",
      "3        0       0         0    0        0      280       4       891700426  \n",
      "4        0       0         0    0        0       66       3       883601324  \n",
      "\n",
      "[5 rows x 27 columns]\n"
     ]
    }
   ],
   "source": [
    "\n",
    "dataset=pd.merge(items, ratings)\n",
    "print(dataset.head())\n",
    "\n",
    "dataset1 = pd.merge(pd.merge(items, ratings),users)"
   ]
  },
  {
   "cell_type": "code",
   "execution_count": 34,
   "metadata": {},
   "outputs": [
    {
     "name": "stdout",
     "output_type": "stream",
     "text": [
      "movie title\n",
      "'Til There Was You (1997)      9\n",
      "1-900 (1994)                   5\n",
      "101 Dalmatians (1996)        109\n",
      "12 Angry Men (1957)          125\n",
      "187 (1997)                    41\n",
      "dtype: int64\n"
     ]
    }
   ],
   "source": [
    "ratings_total = dataset.groupby('movie title').size()\n",
    "print(ratings_total.head())"
   ]
  },
  {
   "cell_type": "code",
   "execution_count": 35,
   "metadata": {},
   "outputs": [
    {
     "name": "stdout",
     "output_type": "stream",
     "text": [
      "                             rating\n",
      "movie title                        \n",
      "'Til There Was You (1997)  2.333333\n",
      "1-900 (1994)               2.600000\n",
      "101 Dalmatians (1996)      2.908257\n",
      "12 Angry Men (1957)        4.344000\n",
      "187 (1997)                 3.024390\n"
     ]
    }
   ],
   "source": [
    "ratings_mean = (dataset.groupby('movie title'))['movie title','rating'].mean()\n",
    "print(ratings_mean.head())"
   ]
  },
  {
   "cell_type": "code",
   "execution_count": 36,
   "metadata": {},
   "outputs": [],
   "source": [
    "#modify the dataframes so that we can merge the two\n",
    "ratings_total = pd.DataFrame({'movie title':ratings_total.index,\n",
    "'total ratings': ratings_total.values})\n",
    "ratings_mean['movie title'] = ratings_mean.index"
   ]
  },
  {
   "cell_type": "code",
   "execution_count": 37,
   "metadata": {},
   "outputs": [
    {
     "name": "stdout",
     "output_type": "stream",
     "text": [
      "        rating                movie title  total ratings\n",
      "1398  4.358491           Star Wars (1977)            583\n",
      "333   3.803536             Contact (1997)            509\n",
      "498   4.155512               Fargo (1996)            508\n",
      "1234  4.007890  Return of the Jedi (1983)            507\n",
      "860   3.156701           Liar Liar (1997)            485\n"
     ]
    },
    {
     "name": "stderr",
     "output_type": "stream",
     "text": [
      "/home/ranjani/anaconda3/lib/python3.7/site-packages/IPython/core/interactiveshell.py:3267: FutureWarning: 'movie title' is both an index level and a column label.\n",
      "Defaulting to column, but this will raise an ambiguity error in a future version\n",
      "  exec(code_obj, self.user_global_ns, self.user_ns)\n"
     ]
    }
   ],
   "source": [
    "final = pd.merge(ratings_mean, ratings_total).sort_values(by = 'total ratings',\n",
    "ascending= False)\n",
    "print(final.head())\n"
   ]
  },
  {
   "cell_type": "code",
   "execution_count": 38,
   "metadata": {},
   "outputs": [
    {
     "name": "stdout",
     "output_type": "stream",
     "text": [
      "        rating                             movie title  total ratings\n",
      "1281  4.466443                 Schindler's List (1993)            298\n",
      "273   4.456790                       Casablanca (1942)            243\n",
      "1317  4.445230        Shawshank Redemption, The (1994)            283\n",
      "1215  4.387560                      Rear Window (1954)            209\n",
      "1572  4.385768              Usual Suspects, The (1995)            267\n",
      "1398  4.358491                        Star Wars (1977)            583\n",
      "303   4.292929                     Citizen Kane (1941)            198\n",
      "1507  4.292237            To Kill a Mockingbird (1962)            219\n",
      "1102  4.291667  One Flew Over the Cuckoo's Nest (1975)            264\n",
      "1329  4.289744        Silence of the Lambs, The (1991)            390\n"
     ]
    }
   ],
   "source": [
    "#Top ten movies among all users\n",
    "final = final[:200].sort_values(by = 'rating',\n",
    "ascending = False)\n",
    "print(final.head(10))\n"
   ]
  },
  {
   "cell_type": "code",
   "execution_count": null,
   "metadata": {},
   "outputs": [],
   "source": [
    "#Pref contains the list of movies seen by each user\n",
    "\n",
    "pref={}\n",
    "Users=users['user_id'].values.tolist()\n",
    "for user in Users:\n",
    "    pref[user]=ratings[ratings['user_id']==user]"
   ]
  },
  {
   "cell_type": "code",
   "execution_count": 170,
   "metadata": {},
   "outputs": [],
   "source": [
    "#computes the similarity etween two users based on number of common movies.\n",
    "def sim_jaccard(p1, p2):\n",
    "    numerator = 0\n",
    "    difference = 0\n",
    "    for movie in pref[p1]['movie id'].values:\n",
    "        if movie in pref[p2]['movie id'].values:\n",
    "            numerator = numerator + 1\n",
    "        else:\n",
    "            difference = difference + 1\n",
    "    denominator = len(pref[p1].keys()) + difference        \n",
    "    return numerator/denominator \n"
   ]
  },
  {
   "cell_type": "code",
   "execution_count": null,
   "metadata": {},
   "outputs": [],
   "source": [
    "#Given two users and a movie, it checks how similar user 2 is to user 1 and returns a suitable rating based on\n",
    "#weighted mean of the ratings.\n",
    "def sim_ratings(movie,guser):\n",
    "    print (\"hi\")\n",
    "    i=1\n",
    "    rating=0\n",
    "    users1=ratings[ratings['movie id']==movie]\n",
    "    for user in users1['user_id'].values:\n",
    "        sim=sim_jaccard(guser,user)\n",
    "        s=pref[user].loc[pref[user]['movie id']== movie ,'rating'].values\n",
    "        simrat=sim*s[0]\n",
    "        rating+=simrat\n",
    "        i+=1\n",
    "    rating=rating/i\n",
    "    return rating\n",
    "        \n",
    "    "
   ]
  },
  {
   "cell_type": "code",
   "execution_count": 219,
   "metadata": {},
   "outputs": [
    {
     "name": "stdout",
     "output_type": "stream",
     "text": [
      "Enter user ID:3\n"
     ]
    },
    {
     "name": "stderr",
     "output_type": "stream",
     "text": [
      "/home/ranjani/anaconda3/lib/python3.7/site-packages/ipykernel_launcher.py:7: SettingWithCopyWarning: \n",
      "A value is trying to be set on a copy of a slice from a DataFrame.\n",
      "Try using .loc[row_indexer,col_indexer] = value instead\n",
      "\n",
      "See the caveats in the documentation: http://pandas.pydata.org/pandas-docs/stable/indexing.html#indexing-view-versus-copy\n",
      "  import sys\n"
     ]
    }
   ],
   "source": [
    "#taking user name as input, checks which users have rated each movie and computes a rating for each movie based on\n",
    "#the two users' similarity and the second users' rating.\n",
    "\n",
    "user_inp=int(input('Enter user ID:'))\n",
    "\n",
    "movies=items.loc[~items['movie id'].isin(pref[int(user_inp)]['movie id'].values)]\n",
    "\n",
    "movies['simratings']= movies.apply (lambda row: sim_ratings(row['movie id'],user_inp), axis=1)"
   ]
  },
  {
   "cell_type": "code",
   "execution_count": null,
   "metadata": {},
   "outputs": [
    {
     "name": "stdout",
     "output_type": "stream",
     "text": [
      "                                      movie title  simratings\n",
      "813                 Great Day in Harlem, A (1994)   10.681818\n",
      "856                      Paris Was a Woman (1995)    6.409091\n",
      "850   Two or Three Things I Know About Her (1966)    4.621333\n",
      "866                  Whole Wide World, The (1996)    4.619242\n",
      "1612                            Tokyo Fist (1995)    4.105263\n",
      "1242                           Night Flier (1997)    4.051153\n",
      "1667                    Wedding Bell Blues (1996)    3.937500\n",
      "1669                               Tainted (1998)    3.937500\n",
      "1666                        Next Step, The (1995)    3.937500\n",
      "916                         Mercury Rising (1998)    3.894754\n"
     ]
    }
   ],
   "source": [
    "#Sorting the movies based on similarity ratings and displaying top 10.\n",
    "top10=movies.sort_values( [\"simratings\"], ascending = False )[:10]\n",
    "\n",
    "print(top10[['movie title','simratings']])"
   ]
  }
 ],
 "metadata": {
  "kernelspec": {
   "display_name": "Python 3",
   "language": "python",
   "name": "python3"
  }
 },
 "nbformat": 4,
 "nbformat_minor": 2
}
